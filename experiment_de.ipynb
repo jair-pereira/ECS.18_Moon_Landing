{
 "cells": [
  {
   "cell_type": "code",
   "execution_count": null,
   "metadata": {},
   "outputs": [],
   "source": [
    "import numpy as np\n",
    "import sys, argparse, os\n",
    "from solvers import de\n",
    "import utils"
   ]
  },
  {
   "cell_type": "code",
   "execution_count": null,
   "metadata": {},
   "outputs": [],
   "source": [
    "nfe       = 1e+2\n",
    "bounds    = (0,1)\n",
    "dimension = 2\n",
    "\n",
    "utils.ALG = \"DE_t\"\n",
    "args = {\"n\":50,\n",
    "        \"beta\":0.37,\n",
    "        \"pr\":0.5,\n",
    "        \"mod\":0.28}\n",
    "\n",
    "utils.IRACE = False\n",
    "utils.modifier = args[\"mod\"]"
   ]
  },
  {
   "cell_type": "code",
   "execution_count": null,
   "metadata": {},
   "outputs": [],
   "source": [
    "for run in range(0, 2):\n",
    "    utils.RUN = run\n",
    "    print(\"RUN:\",run)\n",
    "    r = de(args[\"n\"], utils.evaluate, bounds, dimension, nfe, args[\"beta\"], args[\"pr\"])\n",
    "    print(\"best: \",r.best.getFitness(),\"\\n\")"
   ]
  },
  {
   "cell_type": "code",
   "execution_count": null,
   "metadata": {},
   "outputs": [],
   "source": []
  }
 ],
 "metadata": {
  "kernelspec": {
   "display_name": "Python 3",
   "language": "python",
   "name": "python3"
  },
  "language_info": {
   "codemirror_mode": {
    "name": "ipython",
    "version": 3
   },
   "file_extension": ".py",
   "mimetype": "text/x-python",
   "name": "python",
   "nbconvert_exporter": "python",
   "pygments_lexer": "ipython3",
   "version": "3.6.5"
  }
 },
 "nbformat": 4,
 "nbformat_minor": 2
}
