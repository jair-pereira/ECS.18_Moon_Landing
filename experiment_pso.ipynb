{
 "cells": [
  {
   "cell_type": "code",
   "execution_count": 1,
   "metadata": {},
   "outputs": [],
   "source": [
    "import numpy as np\n",
    "import sys, argparse, os\n",
    "from solvers import pso\n",
    "import utils"
   ]
  },
  {
   "cell_type": "code",
   "execution_count": 7,
   "metadata": {},
   "outputs": [],
   "source": [
    "nfe       = 3e+4\n",
    "nfe       = 1e+3\n",
    "bounds    = (0,1)\n",
    "dimension = 2\n",
    "\n",
    "utils.ALG = \"PSO_1\"\n",
    "args = {\"n\":750, #irace: 800\n",
    "        \"w\":0.37,\n",
    "        \"c1\":0.5,\n",
    "        \"c2\":1.46,\n",
    "        \"mod\":0.28}\n",
    "\n",
    "utils.IRACE = False\n",
    "utils.modifier = args[\"mod\"]"
   ]
  },
  {
   "cell_type": "code",
   "execution_count": null,
   "metadata": {},
   "outputs": [
    {
     "name": "stdout",
     "output_type": "stream",
     "text": [
      "RUN: 0\n",
      "0 / 1000.0 : 2019-06-17 08:29:23.916412\n",
      "750 / 1000.0 : 2019-06-17 08:29:24.744297\n"
     ]
    }
   ],
   "source": [
    "for run in range(0, 1):\n",
    "    utils.RUN = run\n",
    "    print(\"RUN:\",run)\n",
    "    r = pso(args[\"n\"], utils.evaluate, bounds, dimension, nfe, args[\"w\"], args[\"c1\"], args[\"c2\"])\n",
    "    print(\"best: \",r.best.getFitness(),\"\\n\")"
   ]
  },
  {
   "cell_type": "code",
   "execution_count": 16,
   "metadata": {},
   "outputs": [
    {
     "data": {
      "text/plain": [
       "48000.0"
      ]
     },
     "execution_count": 16,
     "metadata": {},
     "output_type": "execute_result"
    }
   ],
   "source": []
  }
 ],
 "metadata": {
  "kernelspec": {
   "display_name": "Python 3",
   "language": "python",
   "name": "python3"
  },
  "language_info": {
   "codemirror_mode": {
    "name": "ipython",
    "version": 3
   },
   "file_extension": ".py",
   "mimetype": "text/x-python",
   "name": "python",
   "nbconvert_exporter": "python",
   "pygments_lexer": "ipython3",
   "version": "3.6.5"
  }
 },
 "nbformat": 4,
 "nbformat_minor": 2
}
